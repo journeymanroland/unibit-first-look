{
 "cells": [
  {
   "cell_type": "markdown",
   "metadata": {},
   "source": [
    "## Stock prices\n",
    "historical"
   ]
  },
  {
   "cell_type": "code",
   "execution_count": 158,
   "metadata": {},
   "outputs": [
    {
     "data": {
      "image/png": "[encoded data removed]",
      "text/plain": [
       "<matplotlib.figure.Figure at 0x11af079b0>"
      ]
     },
     "metadata": {},
     "output_type": "display_data"
    }
   ],
   "source": [
    "'''\n",
    "Query some of our datasets before we talk.\n",
    "After you've played around with our datasets, \n",
    "share with me any feedbacks or suggestions you may have.\n",
    "'''\n",
    "import requests\n",
    "import numpy as np\n",
    "import pandas as pd\n",
    "import json\n",
    "from matplotlib import pyplot as plt\n",
    "import matplotlib.dates as mdates\n",
    "import statistics\n",
    "API_KEY = \"twaDPq1xoWyN7HpcHo3uNm5eSLEP2JZM\"\n",
    "\n",
    "def get__realtime_stock_price(ticker):\n",
    "    response = requests.get('https://api.unibit.ai/api/realtimestock/'+ticker+'?AccessKey='+API_KEY)\n",
    "    data_str = response.text\n",
    "    parsed_data = json.loads(data_str)\n",
    "    return(parsed_data)\n",
    "    \n",
    "\n",
    "spot = get__realtime_stock_price('SPOT')\n",
    "spot_df = pd.DataFrame(data = spot['Realtime Stock price'])\n",
    "\n",
    "# format dates \n",
    "spot_datemin = datetime.datetime.strptime(spot_df.minute.min(), \"%M:%S:%f\").date()\n",
    "spot_datelist = [spot_datemin - datetime.timedelta(days=x) for x in range(0, len(spot_df.minute))]\n",
    "# mins = mdates.MinuteLocator()\n",
    "#minsFmt = mdates.DateFormatter('%M')\n",
    "# ax.xaxis.set_major_locator(mins)\n",
    "# ax.xaxis.set_major_formatter(minsFmt)\n",
    "\n",
    "# plot \n",
    "ax.plot(spot_datelist, spot_df.price)\n",
    "plt.title(\"Spotify\")\n",
    "plt.ylabel(\"Price\")\n",
    "plt.show()"
   ]
  },
  {
   "cell_type": "markdown",
   "metadata": {},
   "source": [
    "# Historical prices\n",
    "bitcoin prices aren't current"
   ]
  },
  {
   "cell_type": "code",
   "execution_count": 150,
   "metadata": {},
   "outputs": [
    {
     "data": {
      "image/png": "[encoded data removed]",
      "text/plain": [
       "<matplotlib.figure.Figure at 0x117d33668>"
      ]
     },
     "metadata": {},
     "output_type": "display_data"
    }
   ],
   "source": [
    "import requests\n",
    "import datetime\n",
    "import numpy as np\n",
    "import pandas as pd\n",
    "import json\n",
    "import matplotlib as mlp\n",
    "from matplotlib import pyplot as plt\n",
    "import matplotlib.dates as mdates\n",
    "# import statistics\n",
    "\n",
    "API_KEY = \"twaDPq1xoWyN7HpcHo3uNm5eSLEP2JZM\"\n",
    "\n",
    "def get_historical_prices(price, currency, rng = '1y'):\n",
    "    url = \"https://api.unibit.ai/api/\"+price+\"/\"+currency+\"?range=\"+rng+\"&interval=1&datatype=json&AccessKey=\"+API_KEY\n",
    "    response = requests.get(url)\n",
    "    data_str = response.text \n",
    "    parsed_data = json.loads(data_str)\n",
    "    return(parsed_data)\n",
    "\n",
    "fig, ax = plt.subplots()\n",
    "\n",
    "btc_prices = get_historical_prices(\"historicalcryptoprice\", \"BTC\")\n",
    "\n",
    "btc_frame = pd.DataFrame(btc_prices['Crypto Historical Price'])\n",
    "\n",
    "btc_datemin = datetime.datetime.strptime(btc_frame.date.min(), \"%Y-%m-%d\").date()\n",
    "\n",
    "btc_date_list = [btc_datemin - datetime.timedelta(days=x) for x in range(0, len(btc_frame.date))]\n",
    "\n",
    "months = mdates.MonthLocator()\n",
    "monthsFmt = mdates.DateFormatter('%m')\n",
    "ax.xaxis.set_major_locator(months)\n",
    "ax.xaxis.set_major_formatter(monthsFmt)\n",
    "\n",
    "ax.plot(btc_date_list, btc_frame.close)\n",
    "plt.title('Bitcoin')\n",
    "plt.show()\n"
   ]
  },
  {
   "cell_type": "markdown",
   "metadata": {
    "collapsed": true
   },
   "source": [
    "# Stocks news "
   ]
  },
  {
   "cell_type": "code",
   "execution_count": 143,
   "metadata": {},
   "outputs": [
    {
     "ename": "KeyError",
     "evalue": "'Stock News'",
     "output_type": "error",
     "traceback": [
      "\u001b[0;31m---------------------------------------------------------------------------\u001b[0m",
      "\u001b[0;31mKeyError\u001b[0m                                  Traceback (most recent call last)",
      "\u001b[0;32m<ipython-input-143-588975890b3e>\u001b[0m in \u001b[0;36m<module>\u001b[0;34m()\u001b[0m\n\u001b[1;32m     19\u001b[0m     \u001b[0;32mreturn\u001b[0m\u001b[0;34m(\u001b[0m\u001b[0mparsed_data\u001b[0m\u001b[0;34m)\u001b[0m\u001b[0;34m\u001b[0m\u001b[0m\n\u001b[1;32m     20\u001b[0m \u001b[0;34m\u001b[0m\u001b[0m\n\u001b[0;32m---> 21\u001b[0;31m \u001b[0mpypl_news\u001b[0m \u001b[0;34m=\u001b[0m \u001b[0mpd\u001b[0m\u001b[0;34m.\u001b[0m\u001b[0mDataFrame\u001b[0m\u001b[0;34m(\u001b[0m\u001b[0mget_news\u001b[0m\u001b[0;34m(\u001b[0m\u001b[0;34m\"PYPL\"\u001b[0m\u001b[0;34m,\u001b[0m \u001b[0mrng\u001b[0m \u001b[0;34m=\u001b[0m \u001b[0;34m\"1m\"\u001b[0m\u001b[0;34m)\u001b[0m\u001b[0;34m[\u001b[0m\u001b[0;34m\"Stock News\"\u001b[0m\u001b[0;34m]\u001b[0m\u001b[0;34m)\u001b[0m\u001b[0;34m\u001b[0m\u001b[0m\n\u001b[0m\u001b[1;32m     22\u001b[0m \u001b[0;34m\u001b[0m\u001b[0m\n\u001b[1;32m     23\u001b[0m \u001b[0mplt\u001b[0m\u001b[0;34m.\u001b[0m\u001b[0mplot\u001b[0m\u001b[0;34m(\u001b[0m\u001b[0mrange\u001b[0m\u001b[0;34m(\u001b[0m\u001b[0;36m0\u001b[0m\u001b[0;34m,\u001b[0m\u001b[0mlen\u001b[0m\u001b[0;34m(\u001b[0m\u001b[0mpypl_news\u001b[0m\u001b[0;34m)\u001b[0m\u001b[0;34m)\u001b[0m\u001b[0;34m,\u001b[0m \u001b[0mpypl_news\u001b[0m\u001b[0;34m.\u001b[0m\u001b[0msentiment\u001b[0m\u001b[0;34m)\u001b[0m\u001b[0;34m\u001b[0m\u001b[0m\n",
      "\u001b[0;31mKeyError\u001b[0m: 'Stock News'"
     ]
    }
   ],
   "source": [
    "import datetime\n",
    "import numpy as np\n",
    "import pandas as pd\n",
    "import matplotlib.pyplot as plt\n",
    "import matplotlib.dates as mdates\n",
    "import statistics as stat\n",
    "\n",
    "years = mdates.YearLocator()   # every year\n",
    "months = mdates.MonthLocator()  # every month\n",
    "yearsFmt = mdates.DateFormatter('%Y')\n",
    "\n",
    "API_KEY = \"twaDPq1xoWyN7HpcHo3uNm5eSLEP2JZM\"\n",
    "\n",
    "def get_news(ticker, rng = \"1y\"):\n",
    "    url = \"https://api.unibit.ai/api/news/sentiment/\"+ticker+\"?range=\"+rng+\"&AccessKey=\"+API_KEY\n",
    "    response = requests.get(url)\n",
    "    data_str = response.text \n",
    "    parsed_data = json.loads(data_str)\n",
    "    return(parsed_data)\n",
    "\n",
    "pypl_news = pd.DataFrame(get_news(\"PYPL\", rng = \"1m\")[\"Stock News\"])\n",
    "\n",
    "plt.plot(range(0,len(pypl_news)), pypl_news.sentiment)\n",
    "plt.title(\"Paypal\")\n",
    "plt.ylabel(\"sentiment\")\n",
    "plt.show()\n",
    "\n",
    "print(\"mean is \" + str(stat.mean(pypl_news.sentiment)))\n"
   ]
  },
  {
   "cell_type": "code",
   "execution_count": null,
   "metadata": {
    "collapsed": true
   },
   "outputs": [],
   "source": []
  }
 ],
 "metadata": {
  "kernelspec": {
   "display_name": "Python 3",
   "language": "python",
   "name": "python3"
  },
  "language_info": {
   "codemirror_mode": {
    "name": "ipython",
    "version": 3
   },
   "file_extension": ".py",
   "mimetype": "text/x-python",
   "name": "python",
   "nbconvert_exporter": "python",
   "pygments_lexer": "ipython3",
   "version": "3.6.3"
  }
 },
 "nbformat": 4,
 "nbformat_minor": 2
}
